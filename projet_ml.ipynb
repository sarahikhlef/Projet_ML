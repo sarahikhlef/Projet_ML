{
 "cells": [
  {
   "cell_type": "code",
   "execution_count": 26,
   "id": "84b9fa14",
   "metadata": {},
   "outputs": [],
   "source": [
    "# Manipulation et analyse de données\n",
    "import pandas as pd\n",
    "\n",
    "# Visualisation graphique \n",
    "import matplotlib.pyplot as plt\n",
    "\n",
    "import seaborn as sns\n",
    "\n",
    "# Diviser les données en un ensemble d'entraînement et un ensemble de test\n",
    "from sklearn.model_selection import train_test_split\n",
    "\n",
    "# Modèle de régression linéaire\n",
    "from sklearn.linear_model import LinearRegression\n",
    "\n",
    "# Evaluer les performances du modèle\n",
    "from sklearn.metrics import mean_squared_error\n",
    "from sklearn.metrics import r2_score\n",
    "\n"
   ]
  },
  {
   "cell_type": "markdown",
   "id": "6f803469",
   "metadata": {},
   "source": [
    "## 1)  Collecte des données"
   ]
  },
  {
   "cell_type": "code",
   "execution_count": 4,
   "id": "533aa8e5",
   "metadata": {},
   "outputs": [],
   "source": [
    "netflix_data = pd.read_csv('data/netflix_titles.csv')"
   ]
  },
  {
   "cell_type": "markdown",
   "id": "19528e11",
   "metadata": {},
   "source": [
    "## 2) Exploration des données "
   ]
  },
  {
   "cell_type": "code",
   "execution_count": 5,
   "id": "017fdb73",
   "metadata": {},
   "outputs": [
    {
     "name": "stdout",
     "output_type": "stream",
     "text": [
      "Index(['show_id', 'type', 'title', 'director', 'cast', 'country', 'date_added',\n",
      "       'release_year', 'rating', 'duration', 'listed_in', 'description'],\n",
      "      dtype='object')\n"
     ]
    }
   ],
   "source": [
    "print(netflix_data.columns)"
   ]
  },
  {
   "cell_type": "code",
   "execution_count": 6,
   "id": "68607baf",
   "metadata": {},
   "outputs": [
    {
     "data": {
      "text/html": [
       "<div>\n",
       "<style scoped>\n",
       "    .dataframe tbody tr th:only-of-type {\n",
       "        vertical-align: middle;\n",
       "    }\n",
       "\n",
       "    .dataframe tbody tr th {\n",
       "        vertical-align: top;\n",
       "    }\n",
       "\n",
       "    .dataframe thead th {\n",
       "        text-align: right;\n",
       "    }\n",
       "</style>\n",
       "<table border=\"1\" class=\"dataframe\">\n",
       "  <thead>\n",
       "    <tr style=\"text-align: right;\">\n",
       "      <th></th>\n",
       "      <th>show_id</th>\n",
       "      <th>type</th>\n",
       "      <th>title</th>\n",
       "      <th>director</th>\n",
       "      <th>cast</th>\n",
       "      <th>country</th>\n",
       "      <th>date_added</th>\n",
       "      <th>release_year</th>\n",
       "      <th>rating</th>\n",
       "      <th>duration</th>\n",
       "      <th>listed_in</th>\n",
       "      <th>description</th>\n",
       "    </tr>\n",
       "  </thead>\n",
       "  <tbody>\n",
       "    <tr>\n",
       "      <th>0</th>\n",
       "      <td>s1</td>\n",
       "      <td>Movie</td>\n",
       "      <td>Dick Johnson Is Dead</td>\n",
       "      <td>Kirsten Johnson</td>\n",
       "      <td>NaN</td>\n",
       "      <td>United States</td>\n",
       "      <td>September 25, 2021</td>\n",
       "      <td>2020</td>\n",
       "      <td>PG-13</td>\n",
       "      <td>90 min</td>\n",
       "      <td>Documentaries</td>\n",
       "      <td>As her father nears the end of his life, filmm...</td>\n",
       "    </tr>\n",
       "    <tr>\n",
       "      <th>1</th>\n",
       "      <td>s2</td>\n",
       "      <td>TV Show</td>\n",
       "      <td>Blood &amp; Water</td>\n",
       "      <td>NaN</td>\n",
       "      <td>Ama Qamata, Khosi Ngema, Gail Mabalane, Thaban...</td>\n",
       "      <td>South Africa</td>\n",
       "      <td>September 24, 2021</td>\n",
       "      <td>2021</td>\n",
       "      <td>TV-MA</td>\n",
       "      <td>2 Seasons</td>\n",
       "      <td>International TV Shows, TV Dramas, TV Mysteries</td>\n",
       "      <td>After crossing paths at a party, a Cape Town t...</td>\n",
       "    </tr>\n",
       "    <tr>\n",
       "      <th>2</th>\n",
       "      <td>s3</td>\n",
       "      <td>TV Show</td>\n",
       "      <td>Ganglands</td>\n",
       "      <td>Julien Leclercq</td>\n",
       "      <td>Sami Bouajila, Tracy Gotoas, Samuel Jouy, Nabi...</td>\n",
       "      <td>NaN</td>\n",
       "      <td>September 24, 2021</td>\n",
       "      <td>2021</td>\n",
       "      <td>TV-MA</td>\n",
       "      <td>1 Season</td>\n",
       "      <td>Crime TV Shows, International TV Shows, TV Act...</td>\n",
       "      <td>To protect his family from a powerful drug lor...</td>\n",
       "    </tr>\n",
       "    <tr>\n",
       "      <th>3</th>\n",
       "      <td>s4</td>\n",
       "      <td>TV Show</td>\n",
       "      <td>Jailbirds New Orleans</td>\n",
       "      <td>NaN</td>\n",
       "      <td>NaN</td>\n",
       "      <td>NaN</td>\n",
       "      <td>September 24, 2021</td>\n",
       "      <td>2021</td>\n",
       "      <td>TV-MA</td>\n",
       "      <td>1 Season</td>\n",
       "      <td>Docuseries, Reality TV</td>\n",
       "      <td>Feuds, flirtations and toilet talk go down amo...</td>\n",
       "    </tr>\n",
       "    <tr>\n",
       "      <th>4</th>\n",
       "      <td>s5</td>\n",
       "      <td>TV Show</td>\n",
       "      <td>Kota Factory</td>\n",
       "      <td>NaN</td>\n",
       "      <td>Mayur More, Jitendra Kumar, Ranjan Raj, Alam K...</td>\n",
       "      <td>India</td>\n",
       "      <td>September 24, 2021</td>\n",
       "      <td>2021</td>\n",
       "      <td>TV-MA</td>\n",
       "      <td>2 Seasons</td>\n",
       "      <td>International TV Shows, Romantic TV Shows, TV ...</td>\n",
       "      <td>In a city of coaching centers known to train I...</td>\n",
       "    </tr>\n",
       "  </tbody>\n",
       "</table>\n",
       "</div>"
      ],
      "text/plain": [
       "  show_id     type                  title         director  \\\n",
       "0      s1    Movie   Dick Johnson Is Dead  Kirsten Johnson   \n",
       "1      s2  TV Show          Blood & Water              NaN   \n",
       "2      s3  TV Show              Ganglands  Julien Leclercq   \n",
       "3      s4  TV Show  Jailbirds New Orleans              NaN   \n",
       "4      s5  TV Show           Kota Factory              NaN   \n",
       "\n",
       "                                                cast        country  \\\n",
       "0                                                NaN  United States   \n",
       "1  Ama Qamata, Khosi Ngema, Gail Mabalane, Thaban...   South Africa   \n",
       "2  Sami Bouajila, Tracy Gotoas, Samuel Jouy, Nabi...            NaN   \n",
       "3                                                NaN            NaN   \n",
       "4  Mayur More, Jitendra Kumar, Ranjan Raj, Alam K...          India   \n",
       "\n",
       "           date_added  release_year rating   duration  \\\n",
       "0  September 25, 2021          2020  PG-13     90 min   \n",
       "1  September 24, 2021          2021  TV-MA  2 Seasons   \n",
       "2  September 24, 2021          2021  TV-MA   1 Season   \n",
       "3  September 24, 2021          2021  TV-MA   1 Season   \n",
       "4  September 24, 2021          2021  TV-MA  2 Seasons   \n",
       "\n",
       "                                           listed_in  \\\n",
       "0                                      Documentaries   \n",
       "1    International TV Shows, TV Dramas, TV Mysteries   \n",
       "2  Crime TV Shows, International TV Shows, TV Act...   \n",
       "3                             Docuseries, Reality TV   \n",
       "4  International TV Shows, Romantic TV Shows, TV ...   \n",
       "\n",
       "                                         description  \n",
       "0  As her father nears the end of his life, filmm...  \n",
       "1  After crossing paths at a party, a Cape Town t...  \n",
       "2  To protect his family from a powerful drug lor...  \n",
       "3  Feuds, flirtations and toilet talk go down amo...  \n",
       "4  In a city of coaching centers known to train I...  "
      ]
     },
     "execution_count": 6,
     "metadata": {},
     "output_type": "execute_result"
    }
   ],
   "source": [
    "netflix_data.head()"
   ]
  },
  {
   "cell_type": "code",
   "execution_count": null,
   "id": "ec2a356e",
   "metadata": {},
   "outputs": [],
   "source": [
    "\n",
    "\n"
   ]
  },
  {
   "cell_type": "code",
   "execution_count": null,
   "id": "04904a9e",
   "metadata": {},
   "outputs": [],
   "source": []
  },
  {
   "cell_type": "code",
   "execution_count": 7,
   "id": "3903cc62",
   "metadata": {
    "scrolled": true
   },
   "outputs": [
    {
     "name": "stdout",
     "output_type": "stream",
     "text": [
      "<class 'pandas.core.frame.DataFrame'>\n",
      "RangeIndex: 8807 entries, 0 to 8806\n",
      "Data columns (total 12 columns):\n",
      " #   Column        Non-Null Count  Dtype \n",
      "---  ------        --------------  ----- \n",
      " 0   show_id       8807 non-null   object\n",
      " 1   type          8807 non-null   object\n",
      " 2   title         8807 non-null   object\n",
      " 3   director      6173 non-null   object\n",
      " 4   cast          7982 non-null   object\n",
      " 5   country       7976 non-null   object\n",
      " 6   date_added    8797 non-null   object\n",
      " 7   release_year  8807 non-null   int64 \n",
      " 8   rating        8803 non-null   object\n",
      " 9   duration      8804 non-null   object\n",
      " 10  listed_in     8807 non-null   object\n",
      " 11  description   8807 non-null   object\n",
      "dtypes: int64(1), object(11)\n",
      "memory usage: 825.8+ KB\n"
     ]
    }
   ],
   "source": [
    "netflix_data.info()"
   ]
  },
  {
   "cell_type": "markdown",
   "id": "52be6313",
   "metadata": {},
   "source": [
    "<font color='red'>On voit bien qu'il y a des valeurs manquantes (Null) sur quelques colonnes.</font>"
   ]
  },
  {
   "cell_type": "markdown",
   "id": "db1ddc00",
   "metadata": {},
   "source": [
    "### Gestion des valeurs manquantes: "
   ]
  },
  {
   "cell_type": "code",
   "execution_count": 8,
   "id": "11c646d8",
   "metadata": {},
   "outputs": [
    {
     "name": "stdout",
     "output_type": "stream",
     "text": [
      "show_id            0\n",
      "type               0\n",
      "title              0\n",
      "director        2634\n",
      "cast             825\n",
      "country          831\n",
      "date_added        10\n",
      "release_year       0\n",
      "rating             4\n",
      "duration           3\n",
      "listed_in          0\n",
      "description        0\n",
      "dtype: int64\n"
     ]
    }
   ],
   "source": [
    "# Afficher le nombre de valeurs manquantes pour chaque colonne\n",
    "print(netflix_data.isnull().sum())"
   ]
  },
  {
   "cell_type": "code",
   "execution_count": 9,
   "id": "b07d8556",
   "metadata": {},
   "outputs": [],
   "source": [
    "# Remplacer les valeurs manquantes dans les colonne 'director','cast' et 'country' par 'non spécifiée'\n",
    "netflix_data['director'].fillna(value='non spécifiée', inplace=True)\n",
    "netflix_data['cast'].fillna(value='non spécifiée', inplace=True)\n",
    "netflix_data['country'].fillna(value='non spécifiée', inplace=True)"
   ]
  },
  {
   "cell_type": "code",
   "execution_count": 10,
   "id": "8bfba83c",
   "metadata": {},
   "outputs": [],
   "source": [
    "# Supprimer les lignes avec des valeurs manquantes dans les colonnes 'duration' et 'rating'\n",
    "netflix_data.dropna(subset=['duration', 'rating'], inplace=True)"
   ]
  },
  {
   "cell_type": "code",
   "execution_count": 11,
   "id": "4c51a4e3",
   "metadata": {},
   "outputs": [],
   "source": [
    "# Remplacer les valeurs manquantes dans la colonne 'date_added' par la date la plus fréquente\n",
    "most_frequent_date = netflix_data['date_added'].mode()[0]\n",
    "netflix_data['date_added'].fillna(most_frequent_date, inplace=True)"
   ]
  },
  {
   "cell_type": "code",
   "execution_count": 12,
   "id": "c941b55b",
   "metadata": {},
   "outputs": [
    {
     "name": "stdout",
     "output_type": "stream",
     "text": [
      "show_id         0\n",
      "type            0\n",
      "title           0\n",
      "director        0\n",
      "cast            0\n",
      "country         0\n",
      "date_added      0\n",
      "release_year    0\n",
      "rating          0\n",
      "duration        0\n",
      "listed_in       0\n",
      "description     0\n",
      "dtype: int64\n"
     ]
    }
   ],
   "source": [
    "# Vérifier à nouveau les valeurs manquantes\n",
    "print(netflix_data.isnull().sum())"
   ]
  },
  {
   "cell_type": "markdown",
   "id": "d94b2681",
   "metadata": {},
   "source": [
    "<font color='blue'>Toutes les colonnes sont maintenant conformes.</font>"
   ]
  },
  {
   "cell_type": "markdown",
   "id": "c59a9ddc",
   "metadata": {},
   "source": [
    "### EDA : Exploratory Data Analysis"
   ]
  },
  {
   "cell_type": "markdown",
   "id": "d981af97",
   "metadata": {},
   "source": [
    "#### Variables numériques"
   ]
  },
  {
   "cell_type": "markdown",
   "id": "9b97dcdd",
   "metadata": {},
   "source": [
    " - Statistiques descriptives:"
   ]
  },
  {
   "cell_type": "code",
   "execution_count": 17,
   "id": "03e417b2",
   "metadata": {},
   "outputs": [
    {
     "name": "stdout",
     "output_type": "stream",
     "text": [
      "count    8800.000000\n",
      "mean     2014.179886\n",
      "std         8.822583\n",
      "min      1925.000000\n",
      "25%      2013.000000\n",
      "50%      2017.000000\n",
      "75%      2019.000000\n",
      "max      2021.000000\n",
      "Name: release_year, dtype: float64\n"
     ]
    }
   ],
   "source": [
    "# Afficher les statistiques descriptives pour la colonne 'release_year'\n",
    "print(netflix_data['release_year'].describe())"
   ]
  },
  {
   "cell_type": "markdown",
   "id": "de985b85",
   "metadata": {},
   "source": [
    " - Visualisation graphique:"
   ]
  },
  {
   "cell_type": "code",
   "execution_count": 52,
   "id": "cefa119f",
   "metadata": {},
   "outputs": [
    {
     "data": {
      "image/png": "[encoded data removed]",
      "text/plain": [
       "<Figure size 720x720 with 1 Axes>"
      ]
     },
     "metadata": {
      "needs_background": "light"
     },
     "output_type": "display_data"
    }
   ],
   "source": [
    "fig, ax = plt.subplots(figsize = (10, 10))\n",
    "plt.hist(netflix_data['release_year'], bins=50)\n",
    "plt.title(\"Distribution des années de sortie des films et émissions de télévision sur Netflix\")\n",
    "plt.xlabel(\"Année de sortie\")\n",
    "plt.ylabel(\"Nombre de titres\")\n",
    "plt.show()"
   ]
  },
  {
   "cell_type": "markdown",
   "id": "dddabc65",
   "metadata": {},
   "source": [
    " - Conclusions: "
   ]
  },
  {
   "cell_type": "markdown",
   "id": "9a56db40",
   "metadata": {},
   "source": [
    "- Il y a 8800 observations dans notre jeu de données.\n",
    "- La moyenne de la colonne est 2014.18, ce qui indique que la plupart des films et émissions de télévision de Netflix ont été publiés au cours des dernières années.\n",
    "- L'écart type est de 8.82, ce qui indique que la distribution des années de sortie est relativement concentrée autour de la moyenne.\n",
    "- L'année la plus ancienne est 1925, tandis que l'année la plus récente est 2021.\n",
    "- Les quartiles nous indiquent que 25% des films et émissions ont été publiés avant 2013, 50% entre 2013 et 2017, et 25% après 2019.\n",
    "\n",
    "Ces informations peuvent être utiles pour mieux comprendre la distribution des années de sortie des films et émissions de télévision sur Netflix, et pour sélectionner les années d'intérêt lors de la création de notre modèle de prédiction de popularité."
   ]
  },
  {
   "cell_type": "markdown",
   "id": "6b08dbc6",
   "metadata": {},
   "source": [
    "#### Variables catégorielles"
   ]
  },
  {
   "cell_type": "markdown",
   "id": "06cf175d",
   "metadata": {},
   "source": [
    "- Variable \"type\":"
   ]
  },
  {
   "cell_type": "code",
   "execution_count": 54,
   "id": "c28f84af",
   "metadata": {},
   "outputs": [
    {
     "data": {
      "image/png": "[encoded data removed]",
      "text/plain": [
       "<Figure size 720x720 with 1 Axes>"
      ]
     },
     "metadata": {
      "needs_background": "light"
     },
     "output_type": "display_data"
    }
   ],
   "source": [
    "fig, ax = plt.subplots(figsize = (10, 10))\n",
    "sns.countplot(x='type', data=netflix_data)\n",
    "plt.title('Répartition des contenus par type')\n",
    "plt.show()"
   ]
  },
  {
   "cell_type": "markdown",
   "id": "02055e34",
   "metadata": {},
   "source": [
    "On peut voir que la majorité des contenus sur Netflix sont des films, mais il y a également un grand nombre de séries."
   ]
  },
  {
   "cell_type": "markdown",
   "id": "b685f588",
   "metadata": {},
   "source": [
    "- Variable \"country\":"
   ]
  },
  {
   "cell_type": "code",
   "execution_count": 55,
   "id": "706d1067",
   "metadata": {},
   "outputs": [
    {
     "data": {
      "image/png": "[encoded data removed]",
      "text/plain": [
       "<Figure size 720x720 with 1 Axes>"
      ]
     },
     "metadata": {
      "needs_background": "light"
     },
     "output_type": "display_data"
    }
   ],
   "source": [
    "fig, ax = plt.subplots(figsize = (10, 10))\n",
    "top_countries = netflix_data['country'].value_counts().head(10)\n",
    "sns.barplot(x=top_countries.values, y=top_countries.index)\n",
    "plt.title('Top 10 des pays d\\'origine des contenus')\n",
    "plt.xlabel('Nombre de contenus')\n",
    "plt.show()"
   ]
  },
  {
   "cell_type": "markdown",
   "id": "c91a114c",
   "metadata": {},
   "source": [
    "On peut voir que la grande majorité des contenus sur Netflix sont des productions américaines, suivies par les productions indiennes et britanniques."
   ]
  },
  {
   "cell_type": "markdown",
   "id": "3b3538d5",
   "metadata": {},
   "source": [
    "- Variable \"rating\":"
   ]
  },
  {
   "cell_type": "code",
   "execution_count": 56,
   "id": "4bfc4112",
   "metadata": {},
   "outputs": [
    {
     "data": {
      "image/png": "[encoded data removed]",
      "text/plain": [
       "<Figure size 720x720 with 1 Axes>"
      ]
     },
     "metadata": {
      "needs_background": "light"
     },
     "output_type": "display_data"
    }
   ],
   "source": [
    "fig, ax = plt.subplots(figsize = (10, 10))\n",
    "sns.countplot(x='rating', data=netflix_data, order=netflix_data['rating'].value_counts().index)\n",
    "plt.title('Répartition des contenus par classification par age')\n",
    "plt.show()"
   ]
  },
  {
   "cell_type": "markdown",
   "id": "f08d0449",
   "metadata": {},
   "source": [
    "On peut constater que la majorité des contenus ont une classification \"TV-MA\" (pour adultes), suivie par \"TV-14\" (pour les adolescents)."
   ]
  },
  {
   "cell_type": "markdown",
   "id": "b936693a",
   "metadata": {},
   "source": [
    "- Variable \"listed-in\":"
   ]
  },
  {
   "cell_type": "code",
   "execution_count": null,
   "id": "785c5136",
   "metadata": {},
   "outputs": [],
   "source": []
  },
  {
   "cell_type": "code",
   "execution_count": 57,
   "id": "b70c6d83",
   "metadata": {},
   "outputs": [
    {
     "data": {
      "image/png": "[encoded data removed]",
      "text/plain": [
       "<Figure size 720x720 with 1 Axes>"
      ]
     },
     "metadata": {
      "needs_background": "light"
     },
     "output_type": "display_data"
    }
   ],
   "source": [
    "fig, ax = plt.subplots(figsize = (10, 10))\n",
    "top_genres = netflix_data['listed_in'].value_counts().head(20)\n",
    "sns.barplot(x=top_genres.values, y=top_genres.index)\n",
    "plt.title('Top 20 des genres de contenus')\n",
    "plt.xlabel('Nombre de contenus')\n",
    "plt.show()"
   ]
  },
  {
   "cell_type": "markdown",
   "id": "8b024b7f",
   "metadata": {},
   "source": [
    "On peut voir que les genres les plus populaires sont les drames, les comédies et les documentaires."
   ]
  },
  {
   "cell_type": "markdown",
   "id": "38c925e3",
   "metadata": {},
   "source": [
    "####  Corrélations entre les variables"
   ]
  },
  {
   "cell_type": "code",
   "execution_count": 91,
   "id": "3ca37765",
   "metadata": {},
   "outputs": [
    {
     "ename": "TypeError",
     "evalue": "data type 'country' not understood",
     "output_type": "error",
     "traceback": [
      "\u001b[1;31m---------------------------------------------------------------------------\u001b[0m",
      "\u001b[1;31mTypeError\u001b[0m                                 Traceback (most recent call last)",
      "Input \u001b[1;32mIn [91]\u001b[0m, in \u001b[0;36m<cell line: 2>\u001b[1;34m()\u001b[0m\n\u001b[0;32m      1\u001b[0m \u001b[38;5;66;03m# Création d'un sous-jeu de données contenant uniquement les colonnes catégorielles\u001b[39;00m\n\u001b[1;32m----> 2\u001b[0m cat_data \u001b[38;5;241m=\u001b[39m \u001b[43mnetflix_data\u001b[49m\u001b[38;5;241;43m.\u001b[39;49m\u001b[43mselect_dtypes\u001b[49m\u001b[43m(\u001b[49m\u001b[43minclude\u001b[49m\u001b[38;5;241;43m=\u001b[39;49m\u001b[43m[\u001b[49m\u001b[38;5;124;43m'\u001b[39;49m\u001b[38;5;124;43mcountry\u001b[39;49m\u001b[38;5;124;43m'\u001b[39;49m\u001b[43m]\u001b[49m\u001b[43m)\u001b[49m\n\u001b[0;32m      4\u001b[0m \u001b[38;5;66;03m# Calcul de la matrice de corrélation des colonnes catégorielles\u001b[39;00m\n\u001b[0;32m      5\u001b[0m corr \u001b[38;5;241m=\u001b[39m cat_data\u001b[38;5;241m.\u001b[39mcorr()\n",
      "File \u001b[1;32m~\\anaconda3\\lib\\site-packages\\pandas\\core\\frame.py:4351\u001b[0m, in \u001b[0;36mDataFrame.select_dtypes\u001b[1;34m(self, include, exclude)\u001b[0m\n\u001b[0;32m   4348\u001b[0m             converted_dtypes\u001b[38;5;241m.\u001b[39mappend(infer_dtype_from_object(dtype))\n\u001b[0;32m   4349\u001b[0m     \u001b[38;5;28;01mreturn\u001b[39;00m \u001b[38;5;28mfrozenset\u001b[39m(converted_dtypes)\n\u001b[1;32m-> 4351\u001b[0m include \u001b[38;5;241m=\u001b[39m \u001b[43mcheck_int_infer_dtype\u001b[49m\u001b[43m(\u001b[49m\u001b[43minclude\u001b[49m\u001b[43m)\u001b[49m\n\u001b[0;32m   4352\u001b[0m exclude \u001b[38;5;241m=\u001b[39m check_int_infer_dtype(exclude)\n\u001b[0;32m   4354\u001b[0m \u001b[38;5;28;01mfor\u001b[39;00m dtypes \u001b[38;5;129;01min\u001b[39;00m (include, exclude):\n",
      "File \u001b[1;32m~\\anaconda3\\lib\\site-packages\\pandas\\core\\frame.py:4348\u001b[0m, in \u001b[0;36mDataFrame.select_dtypes.<locals>.check_int_infer_dtype\u001b[1;34m(dtypes)\u001b[0m\n\u001b[0;32m   4346\u001b[0m         converted_dtypes\u001b[38;5;241m.\u001b[39mextend([np\u001b[38;5;241m.\u001b[39mfloat64, np\u001b[38;5;241m.\u001b[39mfloat32])\n\u001b[0;32m   4347\u001b[0m     \u001b[38;5;28;01melse\u001b[39;00m:\n\u001b[1;32m-> 4348\u001b[0m         converted_dtypes\u001b[38;5;241m.\u001b[39mappend(\u001b[43minfer_dtype_from_object\u001b[49m\u001b[43m(\u001b[49m\u001b[43mdtype\u001b[49m\u001b[43m)\u001b[49m)\n\u001b[0;32m   4349\u001b[0m \u001b[38;5;28;01mreturn\u001b[39;00m \u001b[38;5;28mfrozenset\u001b[39m(converted_dtypes)\n",
      "File \u001b[1;32m~\\anaconda3\\lib\\site-packages\\pandas\\core\\dtypes\\common.py:1692\u001b[0m, in \u001b[0;36minfer_dtype_from_object\u001b[1;34m(dtype)\u001b[0m\n\u001b[0;32m   1683\u001b[0m     \u001b[38;5;28;01mexcept\u001b[39;00m (\u001b[38;5;167;01mAttributeError\u001b[39;00m, \u001b[38;5;167;01mTypeError\u001b[39;00m):\n\u001b[0;32m   1684\u001b[0m         \u001b[38;5;66;03m# Handles cases like get_dtype(int) i.e.,\u001b[39;00m\n\u001b[0;32m   1685\u001b[0m         \u001b[38;5;66;03m# Python objects that are valid dtypes\u001b[39;00m\n\u001b[1;32m   (...)\u001b[0m\n\u001b[0;32m   1688\u001b[0m         \u001b[38;5;66;03m# TypeError handles the float16 type code of 'e'\u001b[39;00m\n\u001b[0;32m   1689\u001b[0m         \u001b[38;5;66;03m# further handle internal types\u001b[39;00m\n\u001b[0;32m   1690\u001b[0m         \u001b[38;5;28;01mpass\u001b[39;00m\n\u001b[1;32m-> 1692\u001b[0m \u001b[38;5;28;01mreturn\u001b[39;00m infer_dtype_from_object(\u001b[43mnp\u001b[49m\u001b[38;5;241;43m.\u001b[39;49m\u001b[43mdtype\u001b[49m\u001b[43m(\u001b[49m\u001b[43mdtype\u001b[49m\u001b[43m)\u001b[49m)\n",
      "\u001b[1;31mTypeError\u001b[0m: data type 'country' not understood"
     ]
    }
   ],
   "source": [
    "# Création d'un sous-jeu de données contenant uniquement les colonnes catégorielles\n",
    "cat_data = netflix_data.select_dtypes(include=['country'])\n",
    "\n",
    "# Calcul de la matrice de corrélation des colonnes catégorielles\n",
    "corr = cat_data.corr()\n",
    "\n",
    "# Affichage de la heatmap\n",
    "sns.heatmap(corr, annot=True, cmap='coolwarm')\n",
    "plt.show()"
   ]
  },
  {
   "cell_type": "code",
   "execution_count": null,
   "id": "f49c682f",
   "metadata": {},
   "outputs": [],
   "source": []
  },
  {
   "cell_type": "code",
   "execution_count": null,
   "id": "62033442",
   "metadata": {},
   "outputs": [],
   "source": []
  }
 ],
 "metadata": {
  "kernelspec": {
   "display_name": "Python 3 (ipykernel)",
   "language": "python",
   "name": "python3"
  },
  "language_info": {
   "codemirror_mode": {
    "name": "ipython",
    "version": 3
   },
   "file_extension": ".py",
   "mimetype": "text/x-python",
   "name": "python",
   "nbconvert_exporter": "python",
   "pygments_lexer": "ipython3",
   "version": "3.9.12"
  }
 },
 "nbformat": 4,
 "nbformat_minor": 5
}
